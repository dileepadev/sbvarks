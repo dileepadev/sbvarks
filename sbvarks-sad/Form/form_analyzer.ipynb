{
 "cells": [
  {
   "cell_type": "code",
   "execution_count": 1,
   "id": "initial_id",
   "metadata": {
    "collapsed": true
   },
   "outputs": [
    {
     "name": "stdout",
     "output_type": "stream",
     "text": [
      "Number of rows in the CSV: 134\n"
     ]
    }
   ],
   "source": [
    "import pandas as pd\n",
    "\n",
    "# Replace 'file.csv' with the actual path to CSV file\n",
    "csv_file_path = 'form_responses.csv'\n",
    "\n",
    "# Read the CSV file using pandas\n",
    "data = pd.read_csv(csv_file_path)\n",
    "\n",
    "# Get the row count\n",
    "row_count = len(data)\n",
    "\n",
    "# Display the row count\n",
    "print(f\"Number of rows in the CSV: {row_count}\")"
   ]
  }
 ],
 "metadata": {
  "kernelspec": {
   "display_name": "Python 3",
   "language": "python",
   "name": "python3"
  },
  "language_info": {
   "codemirror_mode": {
    "name": "ipython",
    "version": 3
   },
   "file_extension": ".py",
   "mimetype": "text/x-python",
   "name": "python",
   "nbconvert_exporter": "python",
   "pygments_lexer": "ipython3",
   "version": "3.11.4"
  }
 },
 "nbformat": 4,
 "nbformat_minor": 5
}
